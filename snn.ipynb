{
  "nbformat": 4,
  "nbformat_minor": 0,
  "metadata": {
    "accelerator": "GPU",
    "colab": {
      "name": "snn.ipynb",
      "provenance": [],
      "collapsed_sections": [],
      "include_colab_link": true
    },
    "kernelspec": {
      "display_name": "Python 3",
      "name": "python3"
    }
  },
  "cells": [
    {
      "cell_type": "markdown",
      "metadata": {
        "id": "view-in-github",
        "colab_type": "text"
      },
      "source": [
        "<a href=\"https://colab.research.google.com/github/jacr2006/handwritten-digits-discrimination/blob/main/snn.ipynb\" target=\"_parent\"><img src=\"https://colab.research.google.com/assets/colab-badge.svg\" alt=\"Open In Colab\"/></a>"
      ]
    },
    {
      "cell_type": "markdown",
      "metadata": {
        "id": "YQfos1QVzkK8"
      },
      "source": [
        "## Siamese Neural Network"
      ]
    },
    {
      "cell_type": "markdown",
      "metadata": {
        "id": "r2Ya894jJ8Bj"
      },
      "source": [
        "## Processing data"
      ]
    },
    {
      "cell_type": "code",
      "metadata": {
        "id": "fAP7sf4VoZBD"
      },
      "source": [
        "import tensorflow.keras as keras\n",
        "import tensorflow as tf\n",
        "from __future__ import absolute_import\n",
        "from __future__ import print_function\n",
        "import numpy as np\n",
        "import random\n",
        "\n",
        "from sklearn.cluster import KMeans\n",
        "\n",
        "from keras.datasets import mnist\n",
        "from tensorflow.keras.models import Model\n",
        "from tensorflow.keras.layers import Input, Flatten, Dense, Dropout, Lambda\n",
        "from tensorflow.keras.layers import Conv2D, Activation,AveragePooling2D\n",
        "from keras import backend as K\n",
        "\n",
        "import math\n",
        "\n",
        "import cv2\n",
        "from google.colab.patches import cv2_imshow"
      ],
      "execution_count": 8,
      "outputs": []
    },
    {
      "cell_type": "code",
      "metadata": {
        "id": "yF7x8_0S6r2M"
      },
      "source": [
        "num_classes = 10\n",
        "\n",
        "# \n",
        "def create_pairs(x, digit_indices):\n",
        "  pairs = []\n",
        "  labels = []\n",
        "   \n",
        "  n=min([len(digit_indices[d]) for d in range(num_classes)]) -1\n",
        "   \n",
        "  for d in range(num_classes):\n",
        "    for i in range(n):\n",
        "      z1, z2 = digit_indices[d][i], digit_indices[d][i+1]\n",
        "      pairs += [[x[z1], x[z2]]]\n",
        "      inc = random.randrange(1, num_classes)\n",
        "      dn = (d + inc) % num_classes\n",
        "      z1, z2 = digit_indices[d][i], digit_indices[dn][i]\n",
        "      pairs += [[x[z1], x[z2]]]\n",
        "      labels += [1,0]\n",
        "  return np.array(pairs), np.array(labels)\n",
        " "
      ],
      "execution_count": 9,
      "outputs": []
    },
    {
      "cell_type": "markdown",
      "metadata": {
        "id": "IRC8AJf1szwf"
      },
      "source": [
        "Preprocessing images"
      ]
    },
    {
      "cell_type": "code",
      "metadata": {
        "colab": {
          "base_uri": "https://localhost:8080/"
        },
        "id": "0MCMslILsstZ",
        "outputId": "dc8e9bdc-c190-4583-b3e3-6e6fcbf53317"
      },
      "source": [
        "# the data, split between train and test sets\n",
        "(x_train, y_train), (x_test, y_test) = mnist.load_data()\n",
        "\n",
        "# Binarization to 8 bit with range (0 or 255) \n",
        "for i in range(x_train.shape[0]):\n",
        "  x_train[i] = cv2.adaptiveThreshold(x_train[i], 255, cv2.ADAPTIVE_THRESH_GAUSSIAN_C, cv2.THRESH_BINARY, 5, 0)\n",
        "for i in range(x_test.shape[0]):\n",
        "  x_test[i] = cv2.adaptiveThreshold(x_test[i], 255, cv2.ADAPTIVE_THRESH_GAUSSIAN_C, cv2.THRESH_BINARY, 5, 0)\n",
        "x_train = x_train.astype('uint8') \n",
        "x_test = x_test.astype('uint8') \n",
        "\n",
        "x_train = x_train.reshape(x_train.shape[0], 28, 28,1)\n",
        "x_test = x_test.reshape(x_test.shape[0], 28, 28, 1)\n",
        "input_shape = (1, 28, 28)\n",
        "print(x_train.shape)\n",
        "\n",
        "input_shape = x_train.shape[1:]\n",
        "input_shape = (28, 28, 1)"
      ],
      "execution_count": 10,
      "outputs": [
        {
          "output_type": "stream",
          "text": [
            "(60000, 28, 28, 1)\n"
          ],
          "name": "stdout"
        }
      ]
    },
    {
      "cell_type": "markdown",
      "metadata": {
        "id": "xPgob98is53e"
      },
      "source": [
        "Dataset of pairs creation."
      ]
    },
    {
      "cell_type": "code",
      "metadata": {
        "id": "EaYvkEGId3fe"
      },
      "source": [
        "# create training+test positive and negative pairs\n",
        "digit_indices = [np.where(y_train == i)[0] for i in range(num_classes)]\n",
        "tr_pairs, tr_y = create_pairs(x_train, digit_indices)\n",
        " \n",
        "digit_indices = [np.where(y_test == i)[0] for i in range(num_classes)]\n",
        "te_pairs, te_y = create_pairs(x_test, digit_indices)\n",
        " "
      ],
      "execution_count": 11,
      "outputs": []
    },
    {
      "cell_type": "code",
      "metadata": {
        "colab": {
          "base_uri": "https://localhost:8080/"
        },
        "id": "A8iI6Rkvlkmm",
        "outputId": "0390bff6-0c36-4935-c440-82c0642447cf"
      },
      "source": [
        "tr_pairs.shape"
      ],
      "execution_count": 12,
      "outputs": [
        {
          "output_type": "execute_result",
          "data": {
            "text/plain": [
              "(108400, 2, 28, 28, 1)"
            ]
          },
          "metadata": {
            "tags": []
          },
          "execution_count": 12
        }
      ]
    },
    {
      "cell_type": "markdown",
      "metadata": {
        "id": "TesDivnpsQ06"
      },
      "source": [
        "## Training"
      ]
    },
    {
      "cell_type": "code",
      "metadata": {
        "id": "juHV9JPOzDin"
      },
      "source": [
        "num_features = 32\n",
        "epochs = 20\n",
        "\n",
        "# \n",
        "def euclid_dis(vects):\n",
        "  x,y = vects\n",
        "  sum_square = K.sum(K.square(x-y), axis=1, keepdims=True)\n",
        "  return K.sqrt(K.maximum(sum_square, K.epsilon()))\n",
        "\n",
        "def eucl_dist_output_shape(shapes):\n",
        "    shape1, shape2 = shapes\n",
        "    return (shape1[0], 1)\n",
        " \n",
        "def contrastive_loss(y_true, y_pred):\n",
        "    y_true=tf.dtypes.cast(y_true, tf.float64)\n",
        "    y_pred=tf.dtypes.cast(y_pred, tf.float64)\n",
        "    margin = 1\n",
        "    square_pred = K.square(y_pred)\n",
        "    margin_square = K.square(K.maximum(margin - y_pred, 0))\n",
        "    return K.mean(y_true * square_pred + (1 - y_true) * margin_square)\n",
        " \n",
        "def create_base_net(input_shape):   \n",
        "  input = Input(shape = input_shape)\n",
        "  x = Conv2D(64, (2,2), activation = 'relu')(input)\n",
        "  x = AveragePooling2D(pool_size = (2,2))(x)\n",
        "  x = Dropout(0.3)(x)\n",
        "  x = Conv2D(64, (2,2), activation = 'relu')(x)\n",
        "  x = AveragePooling2D(pool_size = (2,2))(x)\n",
        "  x = Dropout(0.3)(x)\n",
        "  x = Flatten()(x)\n",
        "  x = Dense(num_features)(x)\n",
        "  model = Model(input, x)\n",
        "  return model\n",
        " \n",
        "def compute_accuracy(y_true, y_pred):\n",
        "    '''Compute classification accuracy with a fixed threshold on distances.\n",
        "    '''\n",
        "    pred = y_pred.ravel() < 0.5\n",
        "    return np.mean(pred == y_true)\n",
        " \n",
        " \n",
        "def accuracy(y_true, y_pred):\n",
        "    '''Compute classification accuracy with a fixed threshold on distances.\n",
        "    '''\n",
        "    return K.mean(K.equal(y_true, K.cast(y_pred < 0.5, y_true.dtype)))\n",
        "\n",
        "# network definition\n",
        "base_network = create_base_net(input_shape)"
      ],
      "execution_count": 13,
      "outputs": []
    },
    {
      "cell_type": "code",
      "metadata": {
        "id": "-rgu8n56d6kM",
        "colab": {
          "base_uri": "https://localhost:8080/"
        },
        "outputId": "5aed4be6-49f1-4283-9315-91ad9dcd1014"
      },
      "source": [
        "input_a = Input(shape=input_shape)\n",
        "input_b = Input(shape=input_shape)\n",
        " \n",
        "processed_a = base_network(input_a)\n",
        "processed_b = base_network(input_b)\n",
        " \n",
        "distance = Lambda(euclid_dis, output_shape=eucl_dist_output_shape) ([processed_a, processed_b])\n",
        " \n",
        "model = Model([input_a, input_b], distance)\n",
        "model.summary()"
      ],
      "execution_count": 14,
      "outputs": [
        {
          "output_type": "stream",
          "text": [
            "Model: \"model_1\"\n",
            "__________________________________________________________________________________________________\n",
            "Layer (type)                    Output Shape         Param #     Connected to                     \n",
            "==================================================================================================\n",
            "input_2 (InputLayer)            [(None, 28, 28, 1)]  0                                            \n",
            "__________________________________________________________________________________________________\n",
            "input_3 (InputLayer)            [(None, 28, 28, 1)]  0                                            \n",
            "__________________________________________________________________________________________________\n",
            "model (Functional)              (None, 32)           90528       input_2[0][0]                    \n",
            "                                                                 input_3[0][0]                    \n",
            "__________________________________________________________________________________________________\n",
            "lambda (Lambda)                 (None, 1)            0           model[0][0]                      \n",
            "                                                                 model[1][0]                      \n",
            "==================================================================================================\n",
            "Total params: 90,528\n",
            "Trainable params: 90,528\n",
            "Non-trainable params: 0\n",
            "__________________________________________________________________________________________________\n"
          ],
          "name": "stdout"
        }
      ]
    },
    {
      "cell_type": "code",
      "metadata": {
        "colab": {
          "base_uri": "https://localhost:8080/"
        },
        "id": "F73iqVdxwoWr",
        "outputId": "9bc8a66a-3f32-4b0f-a494-53e6a64c3bae"
      },
      "source": [
        "model.compile(loss=contrastive_loss, optimizer='adam', metrics=[accuracy])\n",
        "model.fit( [tr_pairs[:, 0], tr_pairs[:, 1]], tr_y,\n",
        "          batch_size=64,\n",
        "          epochs=epochs,\n",
        "          validation_split=0.2 )"
      ],
      "execution_count": 15,
      "outputs": [
        {
          "output_type": "stream",
          "text": [
            "Epoch 1/20\n",
            "1355/1355 [==============================] - 41s 6ms/step - loss: 46.1674 - accuracy: 0.4957 - val_loss: 0.4647 - val_accuracy: 0.5000\n",
            "Epoch 2/20\n",
            "1355/1355 [==============================] - 8s 6ms/step - loss: 0.2713 - accuracy: 0.4976 - val_loss: 0.3282 - val_accuracy: 0.5000\n",
            "Epoch 3/20\n",
            "1355/1355 [==============================] - 8s 6ms/step - loss: 0.2510 - accuracy: 0.5549 - val_loss: 0.2274 - val_accuracy: 0.6003\n",
            "Epoch 4/20\n",
            "1355/1355 [==============================] - 8s 6ms/step - loss: 0.2074 - accuracy: 0.6815 - val_loss: 0.1945 - val_accuracy: 0.6956\n",
            "Epoch 5/20\n",
            "1355/1355 [==============================] - 8s 6ms/step - loss: 0.1847 - accuracy: 0.7319 - val_loss: 0.1933 - val_accuracy: 0.6990\n",
            "Epoch 6/20\n",
            "1355/1355 [==============================] - 8s 6ms/step - loss: 0.1741 - accuracy: 0.7553 - val_loss: 0.1818 - val_accuracy: 0.7276\n",
            "Epoch 7/20\n",
            "1355/1355 [==============================] - 8s 6ms/step - loss: 0.1674 - accuracy: 0.7689 - val_loss: 0.1567 - val_accuracy: 0.7870\n",
            "Epoch 8/20\n",
            "1355/1355 [==============================] - 8s 6ms/step - loss: 0.1584 - accuracy: 0.7879 - val_loss: 0.1693 - val_accuracy: 0.7503\n",
            "Epoch 9/20\n",
            "1355/1355 [==============================] - 8s 6ms/step - loss: 0.1515 - accuracy: 0.8042 - val_loss: 0.1705 - val_accuracy: 0.7574\n",
            "Epoch 10/20\n",
            "1355/1355 [==============================] - 8s 6ms/step - loss: 0.1477 - accuracy: 0.8138 - val_loss: 0.1536 - val_accuracy: 0.7985\n",
            "Epoch 11/20\n",
            "1355/1355 [==============================] - 8s 6ms/step - loss: 0.1450 - accuracy: 0.8215 - val_loss: 0.1561 - val_accuracy: 0.7973\n",
            "Epoch 12/20\n",
            "1355/1355 [==============================] - 8s 6ms/step - loss: 0.1437 - accuracy: 0.8242 - val_loss: 0.1501 - val_accuracy: 0.8037\n",
            "Epoch 13/20\n",
            "1355/1355 [==============================] - 8s 6ms/step - loss: 0.1451 - accuracy: 0.8200 - val_loss: 0.1605 - val_accuracy: 0.7816\n",
            "Epoch 14/20\n",
            "1355/1355 [==============================] - 8s 6ms/step - loss: 0.1352 - accuracy: 0.8396 - val_loss: 0.1482 - val_accuracy: 0.8151\n",
            "Epoch 15/20\n",
            "1355/1355 [==============================] - 8s 6ms/step - loss: 0.1195 - accuracy: 0.8708 - val_loss: 0.1280 - val_accuracy: 0.8592\n",
            "Epoch 16/20\n",
            "1355/1355 [==============================] - 8s 6ms/step - loss: 0.1038 - accuracy: 0.9026 - val_loss: 0.1332 - val_accuracy: 0.8501\n",
            "Epoch 17/20\n",
            "1355/1355 [==============================] - 8s 6ms/step - loss: 0.0974 - accuracy: 0.9149 - val_loss: 0.1220 - val_accuracy: 0.8578\n",
            "Epoch 18/20\n",
            "1355/1355 [==============================] - 8s 6ms/step - loss: 0.0928 - accuracy: 0.9232 - val_loss: 0.1220 - val_accuracy: 0.8593\n",
            "Epoch 19/20\n",
            "1355/1355 [==============================] - 8s 6ms/step - loss: 0.0913 - accuracy: 0.9257 - val_loss: 0.1236 - val_accuracy: 0.8615\n",
            "Epoch 20/20\n",
            "1355/1355 [==============================] - 8s 6ms/step - loss: 0.0917 - accuracy: 0.9265 - val_loss: 0.1191 - val_accuracy: 0.8702\n"
          ],
          "name": "stdout"
        },
        {
          "output_type": "execute_result",
          "data": {
            "text/plain": [
              "<tensorflow.python.keras.callbacks.History at 0x7fb326c6cdd0>"
            ]
          },
          "metadata": {
            "tags": []
          },
          "execution_count": 15
        }
      ]
    },
    {
      "cell_type": "code",
      "metadata": {
        "colab": {
          "base_uri": "https://localhost:8080/"
        },
        "id": "6RSmND6-d854",
        "outputId": "21108d8b-2100-4920-f41d-b7e7c0205ccb"
      },
      "source": [
        "y_pred_te = model.predict([te_pairs[:, 0], te_pairs[:, 1]])\n",
        "te_acc = compute_accuracy(te_y, y_pred_te)\n",
        " \n",
        "print('accuracy on test set: %0.4f' % (te_acc))\n"
      ],
      "execution_count": 16,
      "outputs": [
        {
          "output_type": "stream",
          "text": [
            "accuracy on test set: 0.9460\n"
          ],
          "name": "stdout"
        }
      ]
    },
    {
      "cell_type": "markdown",
      "metadata": {
        "id": "SiyaYmfHtK8o"
      },
      "source": [
        "## Testing"
      ]
    },
    {
      "cell_type": "code",
      "metadata": {
        "colab": {
          "base_uri": "https://localhost:8080/",
          "height": 432
        },
        "id": "4-HpWfEbeAY6",
        "outputId": "4f089657-852b-47bd-ad6e-24fd9f58ed69"
      },
      "source": [
        "import matplotlib.pyplot as plt\n",
        "from PIL import Image\n",
        "\n",
        "number_of_items = 15\n",
        " \n",
        "im = tf.keras.preprocessing.image.array_to_img(\n",
        "    te_pairs[1,0],\n",
        "    data_format=None,\n",
        "    scale=True,\n",
        "    dtype=None\n",
        ")\n",
        " \n",
        "plt.figure(figsize=(20, 10))\n",
        "for item in range(number_of_items):\n",
        "    display = plt.subplot(1, number_of_items,item+1)\n",
        "    im = tf.keras.preprocessing.image.array_to_img( te_pairs[item,0], data_format=None, scale=True,dtype=None)\n",
        "    plt.imshow(im, cmap=\"gray\")\n",
        "    display.get_xaxis().set_visible(False)\n",
        "    display.get_yaxis().set_visible(False)\n",
        "plt.show()\n",
        " \n",
        "plt.figure(figsize=(20, 10))\n",
        "for item in range(number_of_items):\n",
        "    display = plt.subplot(1, number_of_items,item+1)\n",
        "    im = tf.keras.preprocessing.image.array_to_img( te_pairs[item,1], data_format=None, scale=True,dtype=None)\n",
        "    plt.imshow(im, cmap=\"gray\")\n",
        "    display.get_xaxis().set_visible(False)\n",
        "    display.get_yaxis().set_visible(False)\n",
        "plt.show()\n",
        " \n",
        "for i in range(number_of_items):\n",
        "  print(y_pred_te[i])\n",
        "\n"
      ],
      "execution_count": 17,
      "outputs": [
        {
          "output_type": "display_data",
          "data": {
            "image/png": "[encoded data removed]",
            "text/plain": [
              "<Figure size 1440x720 with 15 Axes>"
            ]
          },
          "metadata": {
            "tags": [],
            "needs_background": "light"
          }
        },
        {
          "output_type": "display_data",
          "data": {
            "image/png": "[encoded data removed]",
            "text/plain": [
              "<Figure size 1440x720 with 15 Axes>"
            ]
          },
          "metadata": {
            "tags": [],
            "needs_background": "light"
          }
        },
        {
          "output_type": "stream",
          "text": [
            "[0.17416531]\n",
            "[0.729728]\n",
            "[0.09679835]\n",
            "[0.7438197]\n",
            "[0.23180215]\n",
            "[0.95373136]\n",
            "[0.428622]\n",
            "[0.70716465]\n",
            "[0.2646089]\n",
            "[0.98546445]\n",
            "[0.15119155]\n",
            "[1.069798]\n",
            "[0.17036411]\n",
            "[0.7192007]\n",
            "[0.24329747]\n"
          ],
          "name": "stdout"
        }
      ]
    },
    {
      "cell_type": "markdown",
      "metadata": {
        "id": "BjI1rHVEsWis"
      },
      "source": [
        "## Inference"
      ]
    },
    {
      "cell_type": "markdown",
      "metadata": {
        "id": "SOijVpvDj3T2"
      },
      "source": [
        "Get CNN submodel from SNN model"
      ]
    },
    {
      "cell_type": "code",
      "metadata": {
        "colab": {
          "base_uri": "https://localhost:8080/"
        },
        "id": "ataqsnblemn0",
        "outputId": "5e5dafef-c3dc-4b54-d502-4c87364a2235"
      },
      "source": [
        "for l in model.layers:\n",
        "  print(l.name)"
      ],
      "execution_count": 204,
      "outputs": [
        {
          "output_type": "stream",
          "text": [
            "input_15\n",
            "input_16\n",
            "model_9\n",
            "lambda_4\n"
          ],
          "name": "stdout"
        }
      ]
    },
    {
      "cell_type": "code",
      "metadata": {
        "id": "5RBLHXsKjg8d"
      },
      "source": [
        "sub_model = model.get_layer('model_9')"
      ],
      "execution_count": 206,
      "outputs": []
    },
    {
      "cell_type": "code",
      "metadata": {
        "colab": {
          "base_uri": "https://localhost:8080/"
        },
        "id": "tM70GwbYnKir",
        "outputId": "5935bccf-847e-43ea-b052-3c6e78ceb50f"
      },
      "source": [
        "for l in sub_model.layers:\n",
        "  print(l.name)"
      ],
      "execution_count": 207,
      "outputs": [
        {
          "output_type": "stream",
          "text": [
            "input_14\n",
            "conv2d_10\n",
            "average_pooling2d_10\n",
            "dropout_10\n",
            "conv2d_11\n",
            "average_pooling2d_11\n",
            "dropout_11\n",
            "flatten_5\n",
            "dense_5\n"
          ],
          "name": "stdout"
        }
      ]
    },
    {
      "cell_type": "code",
      "metadata": {
        "colab": {
          "base_uri": "https://localhost:8080/"
        },
        "id": "E6enLyHZk7jU",
        "outputId": "19e75f9d-4312-4aad-f40a-289f4e4fca02"
      },
      "source": [
        "sub_model.input"
      ],
      "execution_count": 208,
      "outputs": [
        {
          "output_type": "execute_result",
          "data": {
            "text/plain": [
              "<KerasTensor: shape=(None, 28, 28, 1) dtype=float32 (created by layer 'input_14')>"
            ]
          },
          "metadata": {
            "tags": []
          },
          "execution_count": 208
        }
      ]
    },
    {
      "cell_type": "code",
      "metadata": {
        "colab": {
          "base_uri": "https://localhost:8080/"
        },
        "id": "yius-DKfoiRH",
        "outputId": "f5469687-4c14-41f8-dcef-684aa1556ee3"
      },
      "source": [
        "sub_model.output"
      ],
      "execution_count": 209,
      "outputs": [
        {
          "output_type": "execute_result",
          "data": {
            "text/plain": [
              "<KerasTensor: shape=(None, 32) dtype=float32 (created by layer 'dense_5')>"
            ]
          },
          "metadata": {
            "tags": []
          },
          "execution_count": 209
        }
      ]
    },
    {
      "cell_type": "markdown",
      "metadata": {
        "id": "2sz45z_TkHf9"
      },
      "source": [
        "Inferences some samples using CNN submodel"
      ]
    },
    {
      "cell_type": "code",
      "metadata": {
        "colab": {
          "base_uri": "https://localhost:8080/",
          "height": 402
        },
        "id": "b1E8WS7psWYX",
        "outputId": "231d948a-eddb-4af7-e012-9babd6b9b79a"
      },
      "source": [
        "INDEX_1 = 1\n",
        "\n",
        "sample_1 = x_test[INDEX_1]\n",
        "sample_1 = sample_1.reshape(1,28, 28,1)\n",
        "plt.imshow(sample_1.reshape(28, 28))\n",
        "plt.show()\n",
        "sample_pred_1 = sub_model.predict(sample_1)\n",
        "print(sample_pred_1)\n",
        "\n",
        "\n",
        "'''\n",
        "sample_1 = te_pairs[INDEX_1,0]\n",
        "plt.imshow(sample_1.reshape(28, 28))\n",
        "plt.show()\n",
        "sample_pred_1 = sub_model.predict(sample_1.reshape(1,28, 28,1))\n",
        "print(sample_pred_1)\n",
        "'''"
      ],
      "execution_count": 220,
      "outputs": [
        {
          "output_type": "display_data",
          "data": {
            "image/png": "[encoded data removed]",
            "text/plain": [
              "<Figure size 432x288 with 1 Axes>"
            ]
          },
          "metadata": {
            "tags": [],
            "needs_background": "light"
          }
        },
        {
          "output_type": "stream",
          "text": [
            "[[ 0.00598245  0.01094826  0.00493547 -0.10339545  0.00582973  0.00991176\n",
            "  -0.10856445  0.01089851  0.0241727  -0.0022396   0.1407542  -0.00207312\n",
            "  -0.06910374 -0.00027617 -0.1778948   0.00355988  0.00708698  0.00181477\n",
            "   0.06703335 -0.00490566  0.21650647  0.02829038  0.15005162 -0.1653221\n",
            "   0.01982423  0.04229931  0.00686496 -0.01768237  0.00993796  0.00671908\n",
            "   0.00809961 -0.05170371]]\n"
          ],
          "name": "stdout"
        },
        {
          "output_type": "execute_result",
          "data": {
            "application/vnd.google.colaboratory.intrinsic+json": {
              "type": "string"
            },
            "text/plain": [
              "'\\nsample_1 = te_pairs[INDEX_1,0]\\nplt.imshow(sample_1.reshape(28, 28))\\nplt.show()\\nsample_pred_1 = sub_model.predict(sample_1.reshape(1,28, 28,1))\\nprint(sample_pred_1)\\n'"
            ]
          },
          "metadata": {
            "tags": []
          },
          "execution_count": 220
        }
      ]
    },
    {
      "cell_type": "code",
      "metadata": {
        "colab": {
          "base_uri": "https://localhost:8080/",
          "height": 402
        },
        "id": "jJYi5LkTtBvK",
        "outputId": "749436c1-5e44-4cca-e444-7085546ab17a"
      },
      "source": [
        "INDEX_2 = 35\n",
        "\n",
        "sample_2 = x_test[INDEX_2]\n",
        "sample_2 = sample_2.reshape(1,28, 28,1)\n",
        "plt.imshow(sample_2.reshape(28, 28))\n",
        "plt.show()\n",
        "sample_pred_2 = sub_model.predict(sample_2)\n",
        "print(sample_pred_2)\n",
        "\n",
        "\n",
        "'''\n",
        "sample_2 = te_pairs[INDEX_2,1]\n",
        "plt.imshow(sample_2.reshape(28, 28))\n",
        "plt.show()\n",
        "sample_pred_2 = sub_model.predict(sample_2.reshape(1,28, 28,1))\n",
        "print(sample_pred_2)\n",
        "'''"
      ],
      "execution_count": 221,
      "outputs": [
        {
          "output_type": "display_data",
          "data": {
            "image/png": "[encoded data removed]",
            "text/plain": [
              "<Figure size 432x288 with 1 Axes>"
            ]
          },
          "metadata": {
            "tags": [],
            "needs_background": "light"
          }
        },
        {
          "output_type": "stream",
          "text": [
            "[[-0.08666976  0.00191372  0.01599233 -0.12423776  0.01139277  0.0097519\n",
            "  -0.12298267  0.00999821  0.05829636  0.00429596  0.12871769 -0.00346765\n",
            "  -0.02160189  0.04394291 -0.31725308  0.00570099  0.00665898 -0.01916667\n",
            "   0.07835153 -0.00199468  0.08327616  0.04453442  0.07120608 -0.22974488\n",
            "   0.01772423 -0.1381833   0.00192028 -0.0170091  -0.17147173  0.00838506\n",
            "  -0.03015555  0.0840202 ]]\n"
          ],
          "name": "stdout"
        },
        {
          "output_type": "execute_result",
          "data": {
            "application/vnd.google.colaboratory.intrinsic+json": {
              "type": "string"
            },
            "text/plain": [
              "'\\nsample_2 = te_pairs[INDEX_2,1]\\nplt.imshow(sample_2.reshape(28, 28))\\nplt.show()\\nsample_pred_2 = sub_model.predict(sample_2.reshape(1,28, 28,1))\\nprint(sample_pred_2)\\n'"
            ]
          },
          "metadata": {
            "tags": []
          },
          "execution_count": 221
        }
      ]
    },
    {
      "cell_type": "markdown",
      "metadata": {
        "id": "Qo5luLjekM1J"
      },
      "source": [
        "Calculate distance between two features outputs, have to be the same previous result"
      ]
    },
    {
      "cell_type": "code",
      "metadata": {
        "colab": {
          "base_uri": "https://localhost:8080/"
        },
        "id": "xPwpCe1_QEFh",
        "outputId": "839251f5-4bc8-4829-d875-1ef7cc0b0caa"
      },
      "source": [
        "d = sample_pred_1, sample_pred_2\n",
        "print( euclid_dis( d ) )"
      ],
      "execution_count": 222,
      "outputs": [
        {
          "output_type": "stream",
          "text": [
            "tf.Tensor([[0.38576087]], shape=(1, 1), dtype=float32)\n"
          ],
          "name": "stdout"
        }
      ]
    },
    {
      "cell_type": "code",
      "metadata": {
        "colab": {
          "base_uri": "https://localhost:8080/"
        },
        "id": "L9AvRQxW2YxI",
        "outputId": "f5f9ef67-344e-4ccc-d4dd-0a8be68c978a"
      },
      "source": [
        "from google.colab import drive\n",
        "drive.mount('/content/drive')"
      ],
      "execution_count": 232,
      "outputs": [
        {
          "output_type": "stream",
          "text": [
            "Mounted at /content/drive\n"
          ],
          "name": "stdout"
        }
      ]
    },
    {
      "cell_type": "code",
      "metadata": {
        "id": "0i4LZwqr2cbo"
      },
      "source": [
        "PATH_DRIVE = '/content/drive/MyDrive/Colab Notebooks/'"
      ],
      "execution_count": 233,
      "outputs": []
    },
    {
      "cell_type": "code",
      "metadata": {
        "id": "kIrUR9VO43Ax"
      },
      "source": [
        "modelpath = PATH_DRIVE+'mnist_discriminator_snn_model_v1.h5'\n",
        "modellitepath = PATH_DRIVE+'mnist_discriminator_snn_model_v1.tflite'"
      ],
      "execution_count": 234,
      "outputs": []
    },
    {
      "cell_type": "markdown",
      "metadata": {
        "id": "7vMVPu5N6ShC"
      },
      "source": [
        "Save model"
      ]
    },
    {
      "cell_type": "code",
      "metadata": {
        "id": "gVdTJQT02ii7"
      },
      "source": [
        "sub_model.save(modelpath)"
      ],
      "execution_count": 235,
      "outputs": []
    },
    {
      "cell_type": "markdown",
      "metadata": {
        "id": "-JF3s5M36XBs"
      },
      "source": [
        "Transform model to tflite"
      ]
    },
    {
      "cell_type": "code",
      "metadata": {
        "colab": {
          "base_uri": "https://localhost:8080/"
        },
        "id": "Qg1bjYUK4vXJ",
        "outputId": "087f9a0d-533e-424a-becb-5338cbad9526"
      },
      "source": [
        "import tensorflow as tf\n",
        "\n",
        "# Convert the model.\n",
        "converter = tf.lite.TFLiteConverter.from_keras_model(sub_model)\n",
        "sub_model_lite = converter.convert()\n",
        "\n",
        "# Save the model.\n",
        "with open(modellitepath, 'wb') as f:\n",
        "  f.write(sub_model_lite)"
      ],
      "execution_count": 236,
      "outputs": [
        {
          "output_type": "stream",
          "text": [
            "INFO:tensorflow:Assets written to: /tmp/tmpguykdvk7/assets\n"
          ],
          "name": "stdout"
        }
      ]
    },
    {
      "cell_type": "markdown",
      "metadata": {
        "id": "yeDrE95sx7vq"
      },
      "source": [
        "## Others test"
      ]
    },
    {
      "cell_type": "markdown",
      "metadata": {
        "id": "qv8rVwTXpUJY"
      },
      "source": [
        "K-means of features"
      ]
    },
    {
      "cell_type": "code",
      "metadata": {
        "id": "xMmbkg3NpWBP"
      },
      "source": [
        "features_test = sub_model.predict(x_test)"
      ],
      "execution_count": 226,
      "outputs": []
    },
    {
      "cell_type": "code",
      "metadata": {
        "colab": {
          "base_uri": "https://localhost:8080/"
        },
        "id": "-YiAQZUkpmsr",
        "outputId": "1deb9cf4-13e1-43a6-d2c5-7831ba6d4549"
      },
      "source": [
        "features_test.shape"
      ],
      "execution_count": 227,
      "outputs": [
        {
          "output_type": "execute_result",
          "data": {
            "text/plain": [
              "(10000, 32)"
            ]
          },
          "metadata": {
            "tags": []
          },
          "execution_count": 227
        }
      ]
    },
    {
      "cell_type": "code",
      "metadata": {
        "id": "FuX6IAAtpTCc"
      },
      "source": [
        "features_kmean = KMeans(n_clusters=num_classes, random_state=0).fit(features_test)"
      ],
      "execution_count": 228,
      "outputs": []
    },
    {
      "cell_type": "markdown",
      "metadata": {
        "id": "PNfFN4KJns0n"
      },
      "source": [
        "Centroids of num_classes witk num_features length"
      ]
    },
    {
      "cell_type": "code",
      "metadata": {
        "colab": {
          "base_uri": "https://localhost:8080/"
        },
        "id": "T9mZEO22p5_N",
        "outputId": "3a8363aa-57a0-41ca-91b2-bf81644328c8"
      },
      "source": [
        "features_kmean.cluster_centers_.shape"
      ],
      "execution_count": 229,
      "outputs": [
        {
          "output_type": "execute_result",
          "data": {
            "text/plain": [
              "(10, 32)"
            ]
          },
          "metadata": {
            "tags": []
          },
          "execution_count": 229
        }
      ]
    },
    {
      "cell_type": "markdown",
      "metadata": {
        "id": "3b4IqVuwner8"
      },
      "source": [
        "Samples of the same class blongs to the same clusters"
      ]
    },
    {
      "cell_type": "code",
      "metadata": {
        "colab": {
          "base_uri": "https://localhost:8080/"
        },
        "id": "jXT1LOPar5Zm",
        "outputId": "522f2ce7-c383-48e4-bcac-cc2148aafc1f"
      },
      "source": [
        "for s in range(num_classes):\n",
        "  d = sample_pred_1, features_kmean.cluster_centers_[s]\n",
        "  print( euclid_dis(d) )"
      ],
      "execution_count": 230,
      "outputs": [
        {
          "output_type": "stream",
          "text": [
            "tf.Tensor([[0.6762014]], shape=(1, 1), dtype=float32)\n",
            "tf.Tensor([[0.57209903]], shape=(1, 1), dtype=float32)\n",
            "tf.Tensor([[0.63599014]], shape=(1, 1), dtype=float32)\n",
            "tf.Tensor([[0.8565641]], shape=(1, 1), dtype=float32)\n",
            "tf.Tensor([[0.83355665]], shape=(1, 1), dtype=float32)\n",
            "tf.Tensor([[0.3120535]], shape=(1, 1), dtype=float32)\n",
            "tf.Tensor([[0.76235276]], shape=(1, 1), dtype=float32)\n",
            "tf.Tensor([[0.56706655]], shape=(1, 1), dtype=float32)\n",
            "tf.Tensor([[0.5562663]], shape=(1, 1), dtype=float32)\n",
            "tf.Tensor([[0.8038031]], shape=(1, 1), dtype=float32)\n"
          ],
          "name": "stdout"
        }
      ]
    },
    {
      "cell_type": "code",
      "metadata": {
        "colab": {
          "base_uri": "https://localhost:8080/"
        },
        "id": "1DwmXlufewlC",
        "outputId": "728ea3c1-1e0b-4283-c0d7-a8763369a821"
      },
      "source": [
        "for s in range(num_classes):\n",
        "  d = sample_pred_2, features_kmean.cluster_centers_[s]\n",
        "  print( euclid_dis(d) )"
      ],
      "execution_count": 231,
      "outputs": [
        {
          "output_type": "stream",
          "text": [
            "tf.Tensor([[0.964572]], shape=(1, 1), dtype=float32)\n",
            "tf.Tensor([[0.66808426]], shape=(1, 1), dtype=float32)\n",
            "tf.Tensor([[0.65028566]], shape=(1, 1), dtype=float32)\n",
            "tf.Tensor([[0.8520703]], shape=(1, 1), dtype=float32)\n",
            "tf.Tensor([[0.7552812]], shape=(1, 1), dtype=float32)\n",
            "tf.Tensor([[0.15077285]], shape=(1, 1), dtype=float32)\n",
            "tf.Tensor([[0.92764723]], shape=(1, 1), dtype=float32)\n",
            "tf.Tensor([[0.73674953]], shape=(1, 1), dtype=float32)\n",
            "tf.Tensor([[0.5934094]], shape=(1, 1), dtype=float32)\n",
            "tf.Tensor([[0.5778818]], shape=(1, 1), dtype=float32)\n"
          ],
          "name": "stdout"
        }
      ]
    },
    {
      "cell_type": "markdown",
      "metadata": {
        "id": "8wIeqcmbDdiF"
      },
      "source": [
        "Inference from binary"
      ]
    },
    {
      "cell_type": "code",
      "metadata": {
        "colab": {
          "base_uri": "https://localhost:8080/"
        },
        "id": "a654PB4zD52r",
        "outputId": "c2ebd3f3-6276-4083-e972-42b6863ef4b8"
      },
      "source": [
        "from google.colab import drive\n",
        "drive.mount('/content/drive')"
      ],
      "execution_count": 53,
      "outputs": [
        {
          "output_type": "stream",
          "text": [
            "Drive already mounted at /content/drive; to attempt to forcibly remount, call drive.mount(\"/content/drive\", force_remount=True).\n"
          ],
          "name": "stdout"
        }
      ]
    },
    {
      "cell_type": "code",
      "metadata": {
        "id": "ecbsefESD9ux"
      },
      "source": [
        "PATH_DRIVE = '/content/drive/MyDrive/Colab Notebooks/'"
      ],
      "execution_count": 54,
      "outputs": []
    },
    {
      "cell_type": "code",
      "metadata": {
        "id": "ywZwe1ZcD_rG"
      },
      "source": [
        "modelpath = PATH_DRIVE+'mnist_discriminator_snn_model_v1.h5'\n",
        "modellitepath = PATH_DRIVE+'mnist_discriminator_snn_model_v1.tflite'"
      ],
      "execution_count": 55,
      "outputs": []
    },
    {
      "cell_type": "code",
      "metadata": {
        "colab": {
          "resources": {
            "http://localhost:8080/nbextensions/google.colab/files.js": {
              "data": "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",
              "ok": true,
              "headers": [
                [
                  "content-type",
                  "application/javascript"
                ]
              ],
              "status": 200,
              "status_text": ""
            }
          },
          "base_uri": "https://localhost:8080/",
          "height": 89
        },
        "id": "XuzdcaopDcS7",
        "outputId": "212a8572-cd5a-4293-b347-930b2af436cd"
      },
      "source": [
        "from google.colab import files\n",
        "\n",
        "uploaded = files.upload()\n",
        "\n",
        "for fn in uploaded.keys():\n",
        "  print('User uploaded file \"{name}\" with length {length} bytes'.format(\n",
        "      name=fn, length=len(uploaded[fn])))"
      ],
      "execution_count": 56,
      "outputs": [
        {
          "output_type": "display_data",
          "data": {
            "text/html": [
              "\n",
              "     <input type=\"file\" id=\"files-6b96196b-d93b-4c75-aa2e-28c0178e0e46\" name=\"files[]\" multiple disabled\n",
              "        style=\"border:none\" />\n",
              "     <output id=\"result-6b96196b-d93b-4c75-aa2e-28c0178e0e46\">\n",
              "      Upload widget is only available when the cell has been executed in the\n",
              "      current browser session. Please rerun this cell to enable.\n",
              "      </output>\n",
              "      <script src=\"/nbextensions/google.colab/files.js\"></script> "
            ],
            "text/plain": [
              "<IPython.core.display.HTML object>"
            ]
          },
          "metadata": {
            "tags": []
          }
        },
        {
          "output_type": "stream",
          "text": [
            "Saving number_2.bin to number_2 (1).bin\n",
            "User uploaded file \"number_2.bin\" with length 784 bytes\n"
          ],
          "name": "stdout"
        }
      ]
    },
    {
      "cell_type": "code",
      "metadata": {
        "id": "nePAWN_qEruR"
      },
      "source": [
        "import struct\n",
        "\n",
        "FILE_NAME = \"number_2.bin\"\n",
        "with open(FILE_NAME,\"rb\") as f:\n",
        "\tdataRaw = f.read(-1)\n",
        " \n",
        "raw = [struct.unpack('b', dataRaw[i:i+1]) for i in range( int(len(dataRaw)) ) ]\n",
        "num=np.array(raw)\n",
        "num = num.astype('uint8')\n",
        "num = num.reshape(1,28,28,1)"
      ],
      "execution_count": 77,
      "outputs": []
    },
    {
      "cell_type": "code",
      "metadata": {
        "colab": {
          "base_uri": "https://localhost:8080/"
        },
        "id": "quaizfQfDy_C",
        "outputId": "047a0da5-2fb2-4df6-86d4-781ff94d8f39"
      },
      "source": [
        "# load model and run inference\n",
        "sub_model = keras.models.load_model(modelpath)\n",
        "res_bin = sub_model.predict(num)# inferenc\n",
        "res_bin"
      ],
      "execution_count": 78,
      "outputs": [
        {
          "output_type": "stream",
          "text": [
            "WARNING:tensorflow:No training configuration found in the save file, so the model was *not* compiled. Compile it manually.\n",
            "WARNING:tensorflow:11 out of the last 11 calls to <function Model.make_predict_function.<locals>.predict_function at 0x7f7f2176d9e0> triggered tf.function retracing. Tracing is expensive and the excessive number of tracings could be due to (1) creating @tf.function repeatedly in a loop, (2) passing tensors with different shapes, (3) passing Python objects instead of tensors. For (1), please define your @tf.function outside of the loop. For (2), @tf.function has experimental_relax_shapes=True option that relaxes argument shapes that can avoid unnecessary retracing. For (3), please refer to https://www.tensorflow.org/guide/function#controlling_retracing and https://www.tensorflow.org/api_docs/python/tf/function for  more details.\n"
          ],
          "name": "stdout"
        },
        {
          "output_type": "execute_result",
          "data": {
            "text/plain": [
              "array([[-0.00980516,  0.01000309,  0.00904152, -0.08552109,  0.00881474,\n",
              "         0.01404266, -0.13346389,  0.00309362,  0.03533191, -0.00033231,\n",
              "         0.04282258, -0.00184346,  0.02427614,  0.00961228, -0.24478139,\n",
              "         0.00455176,  0.00675865, -0.00534478,  0.05066783, -0.00415691,\n",
              "         0.08168683,  0.03350793,  0.13000649, -0.169953  ,  0.01574269,\n",
              "        -0.08194277,  0.00484529, -0.01484193, -0.15158956,  0.01004891,\n",
              "         0.00046152,  0.01306815]], dtype=float32)"
            ]
          },
          "metadata": {
            "tags": []
          },
          "execution_count": 78
        }
      ]
    },
    {
      "cell_type": "markdown",
      "metadata": {
        "id": "j0phnk7zG1MC"
      },
      "source": [
        "Inference from image"
      ]
    },
    {
      "cell_type": "code",
      "metadata": {
        "colab": {
          "resources": {
            "http://localhost:8080/nbextensions/google.colab/files.js": {
              "data": "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",
              "ok": true,
              "headers": [
                [
                  "content-type",
                  "application/javascript"
                ]
              ],
              "status": 200,
              "status_text": ""
            }
          },
          "base_uri": "https://localhost:8080/",
          "height": 89
        },
        "id": "xzTesOkbG0VG",
        "outputId": "0f7e5f0c-92f2-4d27-fdce-101bea400bc5"
      },
      "source": [
        "from google.colab import files\n",
        "\n",
        "uploaded = files.upload()\n",
        "\n",
        "for fn in uploaded.keys():\n",
        "  print('User uploaded file \"{name}\" with length {length} bytes'.format(\n",
        "      name=fn, length=len(uploaded[fn])))"
      ],
      "execution_count": 67,
      "outputs": [
        {
          "output_type": "display_data",
          "data": {
            "text/html": [
              "\n",
              "     <input type=\"file\" id=\"files-3dbb15c1-105d-47df-9b9d-d2cb3409ee6e\" name=\"files[]\" multiple disabled\n",
              "        style=\"border:none\" />\n",
              "     <output id=\"result-3dbb15c1-105d-47df-9b9d-d2cb3409ee6e\">\n",
              "      Upload widget is only available when the cell has been executed in the\n",
              "      current browser session. Please rerun this cell to enable.\n",
              "      </output>\n",
              "      <script src=\"/nbextensions/google.colab/files.js\"></script> "
            ],
            "text/plain": [
              "<IPython.core.display.HTML object>"
            ]
          },
          "metadata": {
            "tags": []
          }
        },
        {
          "output_type": "stream",
          "text": [
            "Saving number_2.png to number_2 (1).png\n",
            "User uploaded file \"number_2.png\" with length 321 bytes\n"
          ],
          "name": "stdout"
        }
      ]
    },
    {
      "cell_type": "code",
      "metadata": {
        "id": "epC9YqJKG5Dc"
      },
      "source": [
        "FILE_NAME = \"number_2.png\"\n",
        "img=cv2.imread( FILE_NAME )\n",
        "img = cv2.cvtColor(img, cv2.COLOR_BGR2GRAY)\n",
        "img = cv2.adaptiveThreshold(img, 255, cv2.ADAPTIVE_THRESH_GAUSSIAN_C, cv2.THRESH_BINARY_INV, 11, 2)\n",
        "img = img.astype('uint8') \n",
        "img = img.reshape(1, 28, 28,1)"
      ],
      "execution_count": 79,
      "outputs": []
    },
    {
      "cell_type": "code",
      "metadata": {
        "colab": {
          "base_uri": "https://localhost:8080/"
        },
        "id": "t1eb7YdzHfYZ",
        "outputId": "a1a83f6d-b9e7-4202-b50f-1aa35ca7b28d"
      },
      "source": [
        "# load model and run inference\n",
        "sub_model = keras.models.load_model(modelpath)\n",
        "res_img = sub_model.predict(img)# inferenc\n",
        "res_img"
      ],
      "execution_count": 80,
      "outputs": [
        {
          "output_type": "stream",
          "text": [
            "WARNING:tensorflow:No training configuration found in the save file, so the model was *not* compiled. Compile it manually.\n",
            "WARNING:tensorflow:11 out of the last 11 calls to <function Model.make_predict_function.<locals>.predict_function at 0x7f7f164d1440> triggered tf.function retracing. Tracing is expensive and the excessive number of tracings could be due to (1) creating @tf.function repeatedly in a loop, (2) passing tensors with different shapes, (3) passing Python objects instead of tensors. For (1), please define your @tf.function outside of the loop. For (2), @tf.function has experimental_relax_shapes=True option that relaxes argument shapes that can avoid unnecessary retracing. For (3), please refer to https://www.tensorflow.org/guide/function#controlling_retracing and https://www.tensorflow.org/api_docs/python/tf/function for  more details.\n"
          ],
          "name": "stdout"
        },
        {
          "output_type": "execute_result",
          "data": {
            "text/plain": [
              "array([[-7.9491436e-03,  1.3514444e-02,  1.1151239e-02, -8.5600048e-02,\n",
              "         1.1344516e-02,  1.8432535e-02, -1.3084112e-01,  1.5995605e-04,\n",
              "         4.2154748e-02, -3.8926457e-03,  4.8472509e-02, -4.1052559e-03,\n",
              "         9.9335518e-03,  9.3949195e-03, -2.5578201e-01,  7.0570353e-03,\n",
              "         3.3936007e-03, -8.8245217e-03,  4.0110942e-02, -8.2717706e-03,\n",
              "         8.2400464e-02,  3.7378252e-02,  1.2954043e-01, -1.6902925e-01,\n",
              "         2.0730089e-02, -9.2678331e-02,  1.7262779e-03, -1.9888330e-02,\n",
              "        -1.4847653e-01,  7.0845992e-03, -4.8074634e-03,  2.8929070e-02]],\n",
              "      dtype=float32)"
            ]
          },
          "metadata": {
            "tags": []
          },
          "execution_count": 80
        }
      ]
    },
    {
      "cell_type": "code",
      "metadata": {
        "colab": {
          "base_uri": "https://localhost:8080/"
        },
        "id": "95p11N3EICqU",
        "outputId": "e0443801-b003-4744-88e1-4bd35bf47c3f"
      },
      "source": [
        "d = res_bin, res_img\n",
        "print( euclid_dis( d ) )"
      ],
      "execution_count": 81,
      "outputs": [
        {
          "output_type": "stream",
          "text": [
            "tf.Tensor([[0.03364818]], shape=(1, 1), dtype=float32)\n"
          ],
          "name": "stdout"
        }
      ]
    }
  ]
}